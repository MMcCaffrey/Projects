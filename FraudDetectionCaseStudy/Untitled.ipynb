{
 "cells": [
  {
   "cell_type": "code",
   "execution_count": null,
   "metadata": {
    "collapsed": true
   },
   "outputs": [],
   "source": [
    "from sklearn.metrics import confusion_matrix"
   ]
  },
  {
   "cell_type": "code",
   "execution_count": null,
   "metadata": {
    "collapsed": true
   },
   "outputs": [],
   "source": [
    "def show_confusion_matrix(y_true, y_predict):\n",
    "    CM = confusion_matrix(y_true, y_predict)\n",
    "    tp = CM[1,1]\n",
    "    fp = CM[0,1]\n",
    "    fn = CM[1,0]\n",
    "    tn = CM[0,0]\n",
    "    total = tp+tn+fp+fn\n",
    "\n",
    "    newCM = np.array([[tp, fp], [fn, tn]])\n",
    "\n",
    "    fig = plt.figure()\n",
    "    ax = fig.add_subplot(111)\n",
    "    cax = ax.matshow(newCM)\n",
    "    plt.title('Confusion Matrix')\n",
    "    fig.colorbar(cax)\n",
    "    ax.set_xticklabels(['']+['True','False'])\n",
    "    ax.set_yticklabels(['']+['True','False'])\n",
    "    plt.xlabel('Actual')\n",
    "    plt.ylabel('Predicted')\n",
    "    plt.show()\n",
    "\n",
    "    print \"True Positive:\", tp, \"or\", np.around(100*float(tp)/total,2), \"%\"\n",
    "    print \"True Negative:\", tn, \"or\", np.around(100*float(tn)/total,2), \"%\"\n",
    "    print \"False Positive:\", fp, \"or\", np.around(100*float(fp)/total,2), \"%\"\n",
    "    print \"False Negative:\", fn, \"or\", np.around(100*float(fn)/total,2), \"%\"\n",
    "    print \"Total\", total\n",
    "    print \"Total False:\", fp+fn\n",
    "    print '\\n'\n",
    "    print \"Accuracy:\", np.around((tp+tn)/float(total),4)\n",
    "    print \"Precision (Positive Predictive Value):\", np.around(tp/float(tp+fp),4)\n",
    "    print \"Negative Predictive Value:\",np.around(tn/float(tn+fn),4)\n",
    "    print \"Recall (True Positive Rate):\", np.around(tp/float(tp+fn),4)\n",
    "    print \"Specificity (True Negative Rate):\", np.around(tn/float(tn+fp),4)\n",
    "    "
   ]
  }
 ],
 "metadata": {
  "kernelspec": {
   "display_name": "Python [conda root]",
   "language": "python",
   "name": "conda-root-py"
  },
  "language_info": {
   "codemirror_mode": {
    "name": "ipython",
    "version": 2
   },
   "file_extension": ".py",
   "mimetype": "text/x-python",
   "name": "python",
   "nbconvert_exporter": "python",
   "pygments_lexer": "ipython2",
   "version": "2.7.12"
  }
 },
 "nbformat": 4,
 "nbformat_minor": 1
}
